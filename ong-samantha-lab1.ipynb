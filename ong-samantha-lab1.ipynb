{
 "cells": [
  {
   "cell_type": "markdown",
   "metadata": {},
   "source": [
    "***193677\n",
    "Ong\n",
    "2 BS ITE***"
   ]
  },
  {
   "cell_type": "markdown",
   "metadata": {},
   "source": [
    "### Problem 1"
   ]
  },
  {
   "cell_type": "code",
   "execution_count": 54,
   "metadata": {},
   "outputs": [
    {
     "name": "stdout",
     "output_type": "stream",
     "text": [
      "Enter the amount in US Dollars20\n",
      "20US dollar(s)=1000Philippine pesos.\n"
     ]
    }
   ],
   "source": [
    "x = dollars_to_pesos = int(input('Enter the amount in US Dollars'))\n",
    "y = dollars_to_pesos * 50\n",
    "\n",
    "print(str(dollars_to_pesos) + \"US dollar(s)=\" + str(y) + \"Philippine pesos.\")"
   ]
  },
  {
   "cell_type": "markdown",
   "metadata": {},
   "source": [
    "### Problem 2"
   ]
  },
  {
   "cell_type": "code",
   "execution_count": 66,
   "metadata": {},
   "outputs": [
    {
     "name": "stdout",
     "output_type": "stream",
     "text": [
      "55\n",
      "3\n",
      "58\n",
      "52\n",
      "165\n",
      "18\n",
      "1\n"
     ]
    }
   ],
   "source": [
    "a = int(input())\n",
    "b = int(input())\n",
    "\n",
    "print(a + b)\n",
    "print(a - b)\n",
    "print(a * b)\n",
    "print(a // b)\n",
    "print(a % b)"
   ]
  },
  {
   "cell_type": "markdown",
   "metadata": {},
   "source": [
    "### Problem 3"
   ]
  },
  {
   "cell_type": "code",
   "execution_count": 98,
   "metadata": {},
   "outputs": [
    {
     "name": "stdout",
     "output_type": "stream",
     "text": [
      "Enter kg65\n",
      "Enter cm180\n",
      "BMI: 20.061728395061728\n"
     ]
    }
   ],
   "source": [
    "kg = int(input('Enter kg'))\n",
    "cm = int(input('Enter cm'))\n",
    "\n",
    "convert_cm_to_m = cm / 100\n",
    "\n",
    "m = convert_cm_to_m * convert_cm_to_m\n",
    "\n",
    "compute_BMI = kg / m\n",
    "print(\"BMI: \" + str(compute_BMI))"
   ]
  },
  {
   "cell_type": "code",
   "execution_count": null,
   "metadata": {},
   "outputs": [],
   "source": []
  }
 ],
 "metadata": {
  "kernelspec": {
   "display_name": "Python 3",
   "language": "python",
   "name": "python3"
  },
  "language_info": {
   "codemirror_mode": {
    "name": "ipython",
    "version": 3
   },
   "file_extension": ".py",
   "mimetype": "text/x-python",
   "name": "python",
   "nbconvert_exporter": "python",
   "pygments_lexer": "ipython3",
   "version": "3.8.3"
  }
 },
 "nbformat": 4,
 "nbformat_minor": 4
}
