{
 "cells": [
  {
   "cell_type": "markdown",
   "metadata": {},
   "source": [
    "193677\n",
    "Ong\n",
    "2 BS ITE"
   ]
  },
  {
   "cell_type": "code",
   "execution_count": 14,
   "metadata": {
    "scrolled": true
   },
   "outputs": [
    {
     "name": "stdout",
     "output_type": "stream",
     "text": [
      "Enter a number :- 5\n",
      "Enter a number :- 6\n",
      "Enter a number :- 7\n",
      "The average is = 6.0\n"
     ]
    }
   ],
   "source": [
    "firstnum = float(eval(input(\"Enter a number :- \")))\n",
    "secondnum = float(eval(input(\"Enter a number :- \")))\n",
    "thirdnum = float(eval(input(\"Enter a number :- \")))\n",
    "\n",
    "three_number_average = (firstnum + secondnum + thirdnum)/3\n",
    "\n",
    "print(f\"The average is = {three_number_average}\")"
   ]
  },
  {
   "cell_type": "code",
   "execution_count": null,
   "metadata": {},
   "outputs": [],
   "source": []
  }
 ],
 "metadata": {
  "kernelspec": {
   "display_name": "Python 3",
   "language": "python",
   "name": "python3"
  },
  "language_info": {
   "codemirror_mode": {
    "name": "ipython",
    "version": 3
   },
   "file_extension": ".py",
   "mimetype": "text/x-python",
   "name": "python",
   "nbconvert_exporter": "python",
   "pygments_lexer": "ipython3",
   "version": "3.8.3"
  }
 },
 "nbformat": 4,
 "nbformat_minor": 4
}
