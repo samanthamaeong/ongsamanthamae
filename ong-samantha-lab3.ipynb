{
 "cells": [
  {
   "cell_type": "markdown",
   "metadata": {},
   "source": [
    "***193677\n",
    "Ong\n",
    "2 BS ITE***"
   ]
  },
  {
   "cell_type": "markdown",
   "metadata": {},
   "source": [
    "## Problem 1"
   ]
  },
  {
   "cell_type": "code",
   "execution_count": 8,
   "metadata": {},
   "outputs": [
    {
     "name": "stdout",
     "output_type": "stream",
     "text": [
      "User 1: @jobenilagan\n",
      "User 2: @joeilagan\n",
      "@jobenilagan and @joeilagan are friends! \n"
     ]
    }
   ],
   "source": [
    "social_graph = {\n",
    "    \"@bongolpoc\":{\"first_name\":\"Joselito\",\n",
    "                  \"last_name\":\"Olpoc\",\n",
    "                  \"following\":[\n",
    "                  ]\n",
    "    },\n",
    "    \"@joaquin\":  {\"first_name\":\"Joaquin\",\n",
    "                  \"last_name\":\"Gonzales\",\n",
    "                  \"following\":[\n",
    "                      \"@chums\",\"@jobenilagan\"\n",
    "                  ]\n",
    "    },\n",
    "    \"@chums\" : {\"first_name\":\"Matthew\",\n",
    "                \"last_name\":\"Uy\",\n",
    "                \"following\":[\n",
    "                    \"@bongolpoc\",\"@miketan\",\"@rudyang\",\"@joeilagan\"\n",
    "                ]\n",
    "    },\n",
    "    \"@jobenilagan\":{\"first_name\":\"Joben\",\n",
    "                   \"last_name\":\"Ilagan\",\n",
    "                   \"following\":[\n",
    "                    \"@eeebeee\",\"@joeilagan\",\"@chums\",\"@joaquin\"\n",
    "                   ]\n",
    "    },\n",
    "    \"@joeilagan\":{\"first_name\":\"Joe\",\n",
    "                  \"last_name\":\"Ilagan\",\n",
    "                  \"following\":[\n",
    "                    \"@eeebeee\",\"@jobenilagan\",\"@chums\"\n",
    "                  ]\n",
    "    },\n",
    "    \"@eeebeee\":  {\"first_name\":\"Elizabeth\",\n",
    "                  \"last_name\":\"Ilagan\",\n",
    "                  \"following\":[\n",
    "                    \"@jobenilagan\",\"@joeilagan\"\n",
    "                  ]\n",
    "    },\n",
    "}\n",
    "\n",
    "def relationship_status(from_member,to_member):\n",
    "    \n",
    "    if from_member in social_graph[to_member][\"following\"] and to_member in social_graph[from_member][\"following\"]:\n",
    "        return from_member + \" and \" + to_member + \" are friends! \"\n",
    "    elif to_member in social_graph[from_member][\"following\"]:\n",
    "        return from_member + \" is following \" + to_member\n",
    "    elif from_member in social_graph[to_member][\"following\"]:\n",
    "        return from_member + \" is followed by \" + to_member\n",
    "    \n",
    "from_member = input(\"User 1: \")\n",
    "to_member = input(\"User 2: \")\n",
    "print(relationship_status(from_member,to_member))"
   ]
  },
  {
   "cell_type": "code",
   "execution_count": 9,
   "metadata": {},
   "outputs": [
    {
     "name": "stdout",
     "output_type": "stream",
     "text": [
      "User 1: @chums\n",
      "User 2: @bongolpoc\n",
      "@chums is following @bongolpoc\n"
     ]
    }
   ],
   "source": [
    "from_member = input(\"User 1: \")\n",
    "to_member = input(\"User 2: \")\n",
    "print(relationship_status(from_member,to_member))"
   ]
  },
  {
   "cell_type": "code",
   "execution_count": 10,
   "metadata": {},
   "outputs": [
    {
     "name": "stdout",
     "output_type": "stream",
     "text": [
      "User 1: @chums\n",
      "User 2: @jobenilagan\n",
      "@chums is followed by @jobenilagan\n"
     ]
    }
   ],
   "source": [
    "from_member = input(\"User 1: \")\n",
    "to_member = input(\"User 2: \")\n",
    "print(relationship_status(from_member,to_member))"
   ]
  },
  {
   "cell_type": "markdown",
   "metadata": {},
   "source": [
    "## Problem 2"
   ]
  },
  {
   "cell_type": "code",
   "execution_count": 44,
   "metadata": {},
   "outputs": [
    {
     "name": "stdout",
     "output_type": "stream",
     "text": [
      "X\n"
     ]
    }
   ],
   "source": [
    "board1 = [\n",
    "['X','X','O'],\n",
    "['O','X','O'],\n",
    "['O','','X'],\n",
    "]\n",
    "\n",
    "board2 = [\n",
    "['X','X','O'],\n",
    "['O','X','O'],\n",
    "['','O','X'],\n",
    "]\n",
    "\n",
    "board3 = [\n",
    "['O','X','O'],\n",
    "['','O','X'],\n",
    "['X','X','O'],\n",
    "]\n",
    "\n",
    "board4 = [\n",
    "['X','X','X'],\n",
    "['O','X','O'],\n",
    "['O','','O'],\n",
    "]\n",
    "\n",
    "board5 = [\n",
    "['X','X','O'],\n",
    "['O','X','O'],\n",
    "['X','','O'],\n",
    "]\n",
    "\n",
    "board6 = [\n",
    "['X','X','O'],\n",
    "['O','X','O'],\n",
    "['X','',''],\n",
    "]\n",
    "\n",
    "def get_winner(board):\n",
    "    for row in board:\n",
    "        if len(set(row)) == 1:\n",
    "            return row[0]\n",
    "    return -1\n",
    "\n",
    "print(get_winner(board4))"
   ]
  },
  {
   "cell_type": "markdown",
   "metadata": {},
   "source": [
    "## Problem 3"
   ]
  },
  {
   "cell_type": "code",
   "execution_count": 56,
   "metadata": {},
   "outputs": [
    {
     "name": "stdout",
     "output_type": "stream",
     "text": [
      "You are from: dlsu\n",
      "Going to: admu\n",
      "Your ETA is about 65 minutes.\n"
     ]
    }
   ],
   "source": [
    "locations = {\n",
    "    \"admu\":{\n",
    "        \"name\":\"Ateneo de Manila University\",\n",
    "        \"latitude\":14.6394557,\n",
    "        \"longitude\":121.0758975        \n",
    "    },\n",
    "    \"upd\":{\n",
    "        \"name\":\"University of the Philippines-Diliman Campus\",\n",
    "        \"latitude\":14.6538519,\n",
    "        \"longitude\":121.0663348\n",
    "    },\n",
    "    \"dlsu\":{\n",
    "        \"name\":\"De La Salle University-Taft\",\n",
    "        \"latitude\":14.5647346,\n",
    "        \"longitude\":120.9909876\n",
    "\n",
    "    }, # <-- Note that Python does not complain about this extra comma. This is perfectly okay.\n",
    "       #     The creators of Python saw that dictionaries tend to be changed a lot, so allowing this is a\n",
    "       #     convenience for developers who need to add elements when needed.\n",
    "}\n",
    "\n",
    "legs = {\n",
    "     (\"upd\",\"admu\"):{\n",
    "         \"travel_time_mins\":10\n",
    "     },\n",
    "     (\"admu\",\"dlsu\"):{\n",
    "         \"travel_time_mins\":35\n",
    "     },\n",
    "     (\"dlsu\",\"upd\"):{\n",
    "         \"travel_time_mins\":55\n",
    "     }\n",
    "}\n",
    "\n",
    "def eta(source,destination):\n",
    "    # write your code here\n",
    "\n",
    "    from_upd_to_admu = legs.get((\"upd\",\"admu\"))[\"travel_time_mins\"]\n",
    "    from_admu_to_dlsu = legs.get((\"admu\",\"dlsu\"))[\"travel_time_mins\"]\n",
    "    from_dlsu_to_upd = legs.get((\"dlsu\",\"upd\"))[\"travel_time_mins\"]\n",
    "\n",
    "    if \"upd\" in source and \"admu\" in destination:\n",
    "        x = from_upd_to_admu\n",
    "    \n",
    "    elif \"admu\" in source and \"dlsu\" in destination:\n",
    "        x = from_admu_to_dlsu\n",
    "    \n",
    "    elif \"dlsu\" in source and \"upd\" in destination:\n",
    "        x = from_dlsu_to_upd\n",
    "    \n",
    "    elif \"upd\" in source and \"dlsu\" in destination:\n",
    "        x = from_upd_to_admu + from_admu_to_dlsu\n",
    "    \n",
    "    elif \"dlsu\" in source and \"admu\" in destination:\n",
    "        x = from_dlsu_to_upd + from_upd_to_admu\n",
    "    \n",
    "    elif \"admu\" in source and \"upd\" in destination:\n",
    "        x = from_admu_to_dlsu + from_dlsu_to_upd\n",
    "    \n",
    "    else:\n",
    "        x = \"no route found\"\n",
    "    \n",
    "    return x\n",
    "\n",
    "source = input(\"You are from: \")\n",
    "destination = input(\"Going to: \")\n",
    "\n",
    "print(\"Your ETA is about \" + str(eta(source,destination)) + \" minutes.\")\n"
   ]
  }
 ],
 "metadata": {
  "kernelspec": {
   "display_name": "Python 3",
   "language": "python",
   "name": "python3"
  },
  "language_info": {
   "codemirror_mode": {
    "name": "ipython",
    "version": 3
   },
   "file_extension": ".py",
   "mimetype": "text/x-python",
   "name": "python",
   "nbconvert_exporter": "python",
   "pygments_lexer": "ipython3",
   "version": "3.8.3"
  }
 },
 "nbformat": 4,
 "nbformat_minor": 4
}
