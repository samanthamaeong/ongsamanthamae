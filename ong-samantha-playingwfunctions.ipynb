{
 "cells": [
  {
   "cell_type": "markdown",
   "metadata": {},
   "source": [
    "***193677\n",
    "Ong\n",
    "2 BS ITE***"
   ]
  },
  {
   "cell_type": "markdown",
   "metadata": {},
   "source": [
    "### Problem 1"
   ]
  },
  {
   "cell_type": "code",
   "execution_count": 37,
   "metadata": {},
   "outputs": [
    {
     "name": "stdout",
     "output_type": "stream",
     "text": [
      "The radius is 5\n",
      "The circumference of the circle is 31.416\n",
      "The area of the circle is 78.53999999999999\n"
     ]
    }
   ],
   "source": [
    "r = int(input(\"The radius is \"))\n",
    "pi = 3.1416\n",
    "\n",
    "circ = 2 * pi * r\n",
    "area_r = pi * r ** 2\n",
    "\n",
    "print(\"The circumference of the circle is \" +  str(circ))\n",
    "print(\"The area of the circle is \" +  str(area_r))"
   ]
  },
  {
   "cell_type": "markdown",
   "metadata": {},
   "source": [
    "### Problem 2"
   ]
  },
  {
   "cell_type": "code",
   "execution_count": 57,
   "metadata": {},
   "outputs": [
    {
     "name": "stdout",
     "output_type": "stream",
     "text": [
      "The original word is : bread\n",
      "The reversed word is : daerb\n"
     ]
    }
   ],
   "source": [
    "def reverse(fiveletterword): \n",
    "    if len(fiveletterword) == 0: \n",
    "        return fiveletterword \n",
    "    else: \n",
    "        return reverse(fiveletterword[1:]) + fiveletterword[0] \n",
    "  \n",
    "fiveletterword = \"bread\"\n",
    "  \n",
    "print (\"The original word is : \",end=\"\") \n",
    "print (fiveletterword) \n",
    "  \n",
    "print (\"The reversed word is : \",end=\"\") \n",
    "print (reverse(fiveletterword))"
   ]
  },
  {
   "cell_type": "markdown",
   "metadata": {},
   "source": [
    "### Problem 3"
   ]
  },
  {
   "cell_type": "code",
   "execution_count": 66,
   "metadata": {},
   "outputs": [
    {
     "name": "stdout",
     "output_type": "stream",
     "text": [
      "positive integer: 5\n",
      "The sum of all positive integers less than and including 5 is 15.0\n"
     ]
    }
   ],
   "source": [
    "n = int(input(\"positive integer: \"))\n",
    "sum_pos_int = n * (n-1) / 2 + n\n",
    "\n",
    "print(\"The sum of all positive integers less than and including \" + str(n) + \" is \" + str(sum_pos_int))"
   ]
  },
  {
   "cell_type": "markdown",
   "metadata": {},
   "source": [
    "### Problem 4"
   ]
  },
  {
   "cell_type": "code",
   "execution_count": 71,
   "metadata": {},
   "outputs": [
    {
     "name": "stdout",
     "output_type": "stream",
     "text": [
      "The sum of the squares of the first 100 natural numbers is 338350.0\n",
      "The square of the sum of the first 100 natural numbers is 25502500.0\n",
      "The difference between the sum of the squares of the first 100 natural numbers and the square of the sum is 25164150.0\n"
     ]
    }
   ],
   "source": [
    "a = 100\n",
    "n = 100\n",
    "\n",
    "sum_of_squares = n * (n+1) * (2*n + 1) / 6\n",
    "sum = n * (a+1) / 2\n",
    "square_of_sum = sum * sum\n",
    "\n",
    "print(\"The sum of the squares of the first 100 natural numbers is \" + str(sum_of_squares))\n",
    "print(\"The square of the sum of the first 100 natural numbers is \" + str(square_of_sum))\n",
    "\n",
    "difference = square_of_sum - sum_of_squares\n",
    "print(\"The difference between the sum of the squares of the first 100 natural numbers and the square of the sum is \" + str(difference))\n"
   ]
  },
  {
   "cell_type": "markdown",
   "metadata": {},
   "source": [
    "### Problem 5"
   ]
  },
  {
   "cell_type": "code",
   "execution_count": 81,
   "metadata": {},
   "outputs": [
    {
     "name": "stdout",
     "output_type": "stream",
     "text": [
      "Enter the amount of cents needed for change: 105\n",
      "1\n",
      "0\n",
      "0\n",
      "1\n",
      "0\n"
     ]
    }
   ],
   "source": [
    "cents = int(input(\"Enter the amount of cents needed for change: \"))\n",
    "\n",
    "change = cents // 100\n",
    "print(change)\n",
    "\n",
    "cents = cents % 100\n",
    "print(cents // 25)\n",
    "\n",
    "cents = cents % 25\n",
    "print(cents // 10)\n",
    "\n",
    "cents = cents % 10\n",
    "print(cents // 5)\n",
    "\n",
    "cents = cents % 5\n",
    "print(cents // 1)"
   ]
  }
 ],
 "metadata": {
  "kernelspec": {
   "display_name": "Python 3",
   "language": "python",
   "name": "python3"
  },
  "language_info": {
   "codemirror_mode": {
    "name": "ipython",
    "version": 3
   },
   "file_extension": ".py",
   "mimetype": "text/x-python",
   "name": "python",
   "nbconvert_exporter": "python",
   "pygments_lexer": "ipython3",
   "version": "3.8.3"
  }
 },
 "nbformat": 4,
 "nbformat_minor": 4
}
